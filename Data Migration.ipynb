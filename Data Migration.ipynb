{
  "nbformat": 4,
  "nbformat_minor": 0,
  "metadata": {
    "colab": {
      "provenance": []
    },
    "kernelspec": {
      "name": "python3",
      "display_name": "Python 3"
    },
    "language_info": {
      "name": "python"
    }
  },
  "cells": [
    {
      "cell_type": "code",
      "execution_count": 1,
      "metadata": {
        "colab": {
          "base_uri": "https://localhost:8080/"
        },
        "id": "Omm8uCR5mTPg",
        "outputId": "f0cca7bc-fd3a-4525-c812-f82e0b2947dd"
      },
      "outputs": [
        {
          "output_type": "stream",
          "name": "stdout",
          "text": [
            "Requirement already satisfied: sqlalchemy in /usr/local/lib/python3.10/dist-packages (2.0.24)\n",
            "Requirement already satisfied: typing-extensions>=4.2.0 in /usr/local/lib/python3.10/dist-packages (from sqlalchemy) (4.5.0)\n",
            "Requirement already satisfied: greenlet!=0.4.17 in /usr/local/lib/python3.10/dist-packages (from sqlalchemy) (3.0.3)\n"
          ]
        }
      ],
      "source": [
        "pip install sqlalchemy\n"
      ]
    },
    {
      "cell_type": "code",
      "source": [
        "from sqlalchemy import create_engine, Column, Integer, String\n",
        "from sqlalchemy.ext.declarative import declarative_base\n",
        "from sqlalchemy.orm import sessionmaker\n",
        "\n",
        "# Define the Base class for declarative ORM\n",
        "Base = declarative_base()\n",
        "\n",
        "# Define SourceModel\n",
        "class SourceModel(Base):\n",
        "    __tablename__ = 'source_table'\n",
        "\n",
        "    id = Column(Integer, primary_key=True)\n",
        "    name = Column(String)\n",
        "\n",
        "# Define DestinationModel\n",
        "class DestinationModel(Base):\n",
        "    __tablename__ = 'destination_table'\n",
        "\n",
        "    id = Column(Integer, primary_key=True)\n",
        "    name = Column(String)\n",
        "\n",
        "# Establish connections to source and destination databases\n",
        "source_engine = create_engine('sqlite:///source.db')\n",
        "destination_engine = create_engine('sqlite:///destination.db')\n",
        "\n",
        "# Create tables in the destination database\n",
        "Base.metadata.create_all(destination_engine)\n",
        "\n",
        "# Create session makers for source and destination databases\n",
        "SourceSession = sessionmaker(bind=source_engine)\n",
        "DestinationSession = sessionmaker(bind=destination_engine)\n",
        "\n",
        "# Create sessions\n",
        "source_session = SourceSession()\n",
        "destination_session = DestinationSession()\n",
        "\n",
        "# Query data from the source database\n",
        "source_data = source_session.query(SourceModel).all()\n",
        "\n",
        "# Migrate data from source to destination\n",
        "for item in source_data:\n",
        "    destination_item = DestinationModel(name=item.name)\n",
        "    destination_session.add(destination_item)\n",
        "\n",
        "# Commit the transaction\n",
        "destination_session.commit()\n",
        "\n",
        "# Close sessions\n",
        "source_session.close()\n",
        "destination_session.close()\n"
      ],
      "metadata": {
        "id": "tBVJVn6kmaDB"
      },
      "execution_count": null,
      "outputs": []
    },
    {
      "cell_type": "markdown",
      "source": [
        "1) We define our source and destination database models (SourceModel and\n",
        "DestinationModel) using SQLAlchemy's declarative base class.\n",
        "\n",
        "2) We establish connections to both the source and destination databases using SQLAlchemy's create_engine function.\n",
        "\n",
        "3) We create tables in the destination database using Base.metadata.create_all.\n",
        "\n",
        "4) We create session makers for both the source and destination databases using SQLAlchemy's sessionmaker.\n",
        "\n",
        "5) We query data from the source database using the source session.\n",
        "\n",
        "6) We iterate over the queried data and create corresponding objects in the destination database.\n",
        "\n",
        "7) We commit the transaction to save the changes in the destination database.\n",
        "Finally, we close the sessions to clean up resources."
      ],
      "metadata": {
        "id": "pgY12MD-mmUI"
      }
    },
    {
      "cell_type": "code",
      "source": [
        "# Migrate data from source to destination\n",
        "for item in source_data:\n",
        "    destination_item = DestinationModel(name=item.name)\n",
        "    destination_session.add(destination_item)\n",
        "    print(f\"Migrated item with name: {item.name}\")\n",
        "\n",
        "# Commit the transaction\n",
        "destination_session.commit()\n",
        "print(\"Data migration completed successfully.\")\n"
      ],
      "metadata": {
        "id": "HPHFh93SoQfA"
      },
      "execution_count": null,
      "outputs": []
    }
  ]
}